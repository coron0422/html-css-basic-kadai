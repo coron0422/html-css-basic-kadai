{
  "nbformat": 4,
  "nbformat_minor": 0,
  "metadata": {
    "colab": {
      "provenance": []
    },
    "kernelspec": {
      "name": "python3",
      "display_name": "Python 3"
    },
    "language_info": {
      "name": "python"
    }
  },
  "cells": [
    {
      "cell_type": "code",
      "execution_count": null,
      "metadata": {
        "id": "2u-dflPiTaeP"
      },
      "outputs": [],
      "source": [
        "<!DOCTYPE html>\n",
        "<html lang=\"ja\">\n",
        "    <head>\n",
        "        <title>5章課題</title>\n",
        "        <meta content=\"このページは5章の課題です。\">\n",
        "        <meta charset=\"utf-8\" >\n",
        "    </head>\n",
        "    <body>\n",
        "      <header>\n",
        "        <h1>私の趣味</h1>\n",
        "      </header>\n",
        "      <main>\n",
        "        <p>私は中学時代にサッカーを始めました。<br>\n",
        "           現在はサッカーのコーチとして活動をして、趣味のサッカーを楽しんでいます。\n",
        "        </P>\n",
        "        <img src=\"../images/sample.jpg\">\n",
        "       </main>\n",
        "       <fottor>\n",
        "        <a href=\"https://twitter.com/samuraijuku\">私のプロフィールはこちら</a>\n",
        "       </fottor>\n",
        "    </body>\n",
        "</html>"
      ]
    }
  ]
}